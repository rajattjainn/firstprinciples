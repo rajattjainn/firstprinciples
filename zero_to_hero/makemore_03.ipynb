{
 "cells": [
  {
   "cell_type": "code",
   "execution_count": 1,
   "id": "1ed5d7ac-fe47-4b9d-8e58-0aa99db464b0",
   "metadata": {},
   "outputs": [],
   "source": [
    "import torch\n",
    "import torch.nn.functional as F\n",
    "import matplotlib.pyplot as plt\n",
    "%matplotlib inline"
   ]
  },
  {
   "cell_type": "code",
   "execution_count": 2,
   "id": "222158a9-7609-4943-8623-cd8b75e7ddd5",
   "metadata": {},
   "outputs": [
    {
     "data": {
      "text/plain": [
       "['emma', 'olivia', 'ava', 'isabella', 'sophia', 'charlotte', 'mia', 'amelia']"
      ]
     },
     "execution_count": 2,
     "metadata": {},
     "output_type": "execute_result"
    }
   ],
   "source": [
    "words = open(\"names.txt\").read().splitlines()\n",
    "words[:8]"
   ]
  },
  {
   "cell_type": "code",
   "execution_count": 3,
   "id": "ecfae3a9-51f2-400b-9fa4-7895c5d10f89",
   "metadata": {},
   "outputs": [
    {
     "data": {
      "text/plain": [
       "32033"
      ]
     },
     "execution_count": 3,
     "metadata": {},
     "output_type": "execute_result"
    }
   ],
   "source": [
    "len(words)"
   ]
  },
  {
   "cell_type": "code",
   "execution_count": 4,
   "id": "cee31460-5119-4849-a9c2-8588b11c1d0d",
   "metadata": {},
   "outputs": [
    {
     "name": "stdout",
     "output_type": "stream",
     "text": [
      "{1: 'a', 2: 'b', 3: 'c', 4: 'd', 5: 'e', 6: 'f', 7: 'g', 8: 'h', 9: 'i', 10: 'j', 11: 'k', 12: 'l', 13: 'm', 14: 'n', 15: 'o', 16: 'p', 17: 'q', 18: 'r', 19: 's', 20: 't', 21: 'u', 22: 'v', 23: 'w', 24: 'x', 25: 'y', 26: 'z', 0: '.'}\n",
      "27\n"
     ]
    }
   ],
   "source": [
    "chars = sorted(list(set(''.join(words))))\n",
    "stoi = {s:i+1 for i,s in enumerate(chars)}\n",
    "stoi[\".\"] = 0\n",
    "itos = {i:s for s,i in stoi.items()}\n",
    "vocab_size = len(itos)\n",
    "print (itos)\n",
    "print (vocab_size)"
   ]
  },
  {
   "cell_type": "code",
   "execution_count": 5,
   "id": "66323357-bb01-44fd-9482-52ac340b1fe3",
   "metadata": {},
   "outputs": [
    {
     "name": "stdout",
     "output_type": "stream",
     "text": [
      "torch.Size([182625, 3]) torch.Size([182625])\n",
      "torch.Size([22655, 3]) torch.Size([22655])\n",
      "torch.Size([22866, 3]) torch.Size([22866])\n"
     ]
    }
   ],
   "source": [
    "block_size = 3\n",
    "\n",
    "def build_dataset(words):\n",
    "    X, Y = [], []\n",
    "\n",
    "    for w in words:\n",
    "        context = [0] * block_size\n",
    "        for ch in w + \".\": \n",
    "            ix = stoi[ch]\n",
    "            X.append(context)\n",
    "            Y.append(ix)\n",
    "            context = context[1:] + [ix]\n",
    "\n",
    "    X = torch.tensor(X)\n",
    "    Y = torch.tensor(Y)\n",
    "    print (X.shape, Y.shape)\n",
    "    return X, Y\n",
    "\n",
    "import random\n",
    "random.seed(42)\n",
    "random.shuffle(words)\n",
    "n1 = int(0.8 * len(words))\n",
    "n2 = int(0.9 * len(words))\n",
    "\n",
    "Xtr, Ytr = build_dataset(words[:n1])\n",
    "Xdev, Ydev = build_dataset(words[n1:n2])\n",
    "Xte, Yte = build_dataset(words[n2:])\n",
    "\n"
   ]
  },
  {
   "cell_type": "code",
   "execution_count": 6,
   "id": "c3d356a7-861a-4e83-a4ac-359c3b1d833c",
   "metadata": {},
   "outputs": [
    {
     "name": "stdout",
     "output_type": "stream",
     "text": [
      "11897\n"
     ]
    }
   ],
   "source": [
    "n_embd = 10\n",
    "n_hidden = 200\n",
    "\n",
    "g = torch.Generator().manual_seed(2147483647)\n",
    "C = torch.randn((vocab_size, n_embd),                 generator=g)\n",
    "W1 = torch.randn((n_embd * block_size, n_hidden),     generator=g) * (5/3)/((n_embd * block_size) ** 0.5)\n",
    "b1 = torch.randn(n_hidden,                            generator=g) * 0.01\n",
    "W2 = torch.randn((n_hidden, vocab_size),              generator=g) * 0.01\n",
    "b2 = torch.randn(vocab_size,                          generator=g) * 0.0\n",
    "\n",
    "parameters = [C, W1, b1, W2, b2]\n",
    "print (sum(p.nelement() for p in parameters))\n",
    "for p in parameters:\n",
    "    p.requires_grad = True"
   ]
  },
  {
   "cell_type": "code",
   "execution_count": 7,
   "id": "a786cb10-a688-4079-899b-532c709b3c61",
   "metadata": {},
   "outputs": [
    {
     "name": "stdout",
     "output_type": "stream",
     "text": [
      "working\n",
      "      0/ 200000: 3.3179\n",
      "   1000/ 200000: 2.1438\n",
      "   2000/ 200000: 2.3596\n",
      "   3000/ 200000: 2.1125\n",
      "   4000/ 200000: 2.1116\n",
      "   5000/ 200000: 2.2234\n",
      "   6000/ 200000: 2.1057\n",
      "   7000/ 200000: 2.4183\n",
      "   8000/ 200000: 1.9589\n",
      "   9000/ 200000: 2.1460\n",
      "  10000/ 200000: 2.1910\n",
      "  11000/ 200000: 1.8603\n",
      "  12000/ 200000: 2.1112\n",
      "  13000/ 200000: 2.1679\n",
      "  14000/ 200000: 2.5988\n",
      "  15000/ 200000: 1.9153\n",
      "  16000/ 200000: 2.4242\n",
      "  17000/ 200000: 2.2726\n",
      "  18000/ 200000: 1.9687\n",
      "  19000/ 200000: 2.3866\n",
      "  20000/ 200000: 2.3270\n",
      "  21000/ 200000: 2.6034\n",
      "  22000/ 200000: 1.9269\n",
      "  23000/ 200000: 1.9044\n",
      "  24000/ 200000: 2.5608\n",
      "  25000/ 200000: 2.3760\n",
      "  26000/ 200000: 2.3038\n",
      "  27000/ 200000: 2.4916\n",
      "  28000/ 200000: 2.0339\n",
      "  29000/ 200000: 2.5477\n",
      "  30000/ 200000: 2.5396\n",
      "  31000/ 200000: 2.1391\n",
      "  32000/ 200000: 2.4098\n",
      "  33000/ 200000: 2.1800\n",
      "  34000/ 200000: 1.9161\n",
      "  35000/ 200000: 2.2622\n",
      "  36000/ 200000: 2.2170\n",
      "  37000/ 200000: 2.1951\n",
      "  38000/ 200000: 2.6034\n",
      "  39000/ 200000: 2.1315\n",
      "  40000/ 200000: 1.9468\n",
      "  41000/ 200000: 2.1787\n",
      "  42000/ 200000: 2.1880\n",
      "  43000/ 200000: 2.3433\n",
      "  44000/ 200000: 1.9580\n",
      "  45000/ 200000: 1.7840\n",
      "  46000/ 200000: 2.2020\n",
      "  47000/ 200000: 2.0850\n",
      "  48000/ 200000: 2.4574\n",
      "  49000/ 200000: 1.9021\n",
      "  50000/ 200000: 2.3331\n",
      "  51000/ 200000: 2.8345\n",
      "  52000/ 200000: 2.2390\n",
      "  53000/ 200000: 2.4343\n",
      "  54000/ 200000: 2.1193\n",
      "  55000/ 200000: 2.0051\n",
      "  56000/ 200000: 2.0101\n",
      "  57000/ 200000: 1.6184\n",
      "  58000/ 200000: 1.6475\n",
      "  59000/ 200000: 2.4119\n",
      "  60000/ 200000: 2.3852\n",
      "  61000/ 200000: 2.2753\n",
      "  62000/ 200000: 2.5730\n",
      "  63000/ 200000: 2.1026\n",
      "  64000/ 200000: 2.0657\n",
      "  65000/ 200000: 1.9075\n",
      "  66000/ 200000: 2.2855\n",
      "  67000/ 200000: 2.4179\n",
      "  68000/ 200000: 1.8201\n",
      "  69000/ 200000: 2.0762\n",
      "  70000/ 200000: 2.1173\n",
      "  71000/ 200000: 2.2055\n",
      "  72000/ 200000: 2.3868\n",
      "  73000/ 200000: 2.2943\n",
      "  74000/ 200000: 1.7876\n",
      "  75000/ 200000: 2.4620\n",
      "  76000/ 200000: 1.7048\n",
      "  77000/ 200000: 2.2066\n",
      "  78000/ 200000: 2.1774\n",
      "  79000/ 200000: 2.1086\n",
      "  80000/ 200000: 2.3159\n",
      "  81000/ 200000: 1.9829\n",
      "  82000/ 200000: 2.4175\n",
      "  83000/ 200000: 1.9488\n",
      "  84000/ 200000: 2.2798\n",
      "  85000/ 200000: 1.9697\n",
      "  86000/ 200000: 2.2302\n",
      "  87000/ 200000: 2.0328\n",
      "  88000/ 200000: 2.3474\n",
      "  89000/ 200000: 2.1290\n",
      "  90000/ 200000: 2.2010\n",
      "  91000/ 200000: 1.8726\n",
      "  92000/ 200000: 2.3634\n",
      "  93000/ 200000: 1.8197\n",
      "  94000/ 200000: 1.9446\n",
      "  95000/ 200000: 1.8386\n",
      "  96000/ 200000: 1.8510\n",
      "  97000/ 200000: 2.2551\n",
      "  98000/ 200000: 2.0089\n",
      "  99000/ 200000: 1.9230\n",
      " 100000/ 200000: 1.8591\n",
      " 101000/ 200000: 1.6618\n",
      " 102000/ 200000: 2.2494\n",
      " 103000/ 200000: 2.0243\n",
      " 104000/ 200000: 2.1916\n",
      " 105000/ 200000: 1.9497\n",
      " 106000/ 200000: 2.2573\n",
      " 107000/ 200000: 2.0382\n",
      " 108000/ 200000: 1.9783\n",
      " 109000/ 200000: 2.3070\n",
      " 110000/ 200000: 2.0881\n",
      " 111000/ 200000: 2.0929\n",
      " 112000/ 200000: 1.7695\n",
      " 113000/ 200000: 2.0504\n",
      " 114000/ 200000: 1.9352\n",
      " 115000/ 200000: 2.0531\n",
      " 116000/ 200000: 2.0511\n",
      " 117000/ 200000: 2.3841\n",
      " 118000/ 200000: 2.2881\n",
      " 119000/ 200000: 2.1612\n",
      " 120000/ 200000: 1.9389\n",
      " 121000/ 200000: 2.2086\n",
      " 122000/ 200000: 2.1149\n",
      " 123000/ 200000: 2.5250\n",
      " 124000/ 200000: 2.7834\n",
      " 125000/ 200000: 1.9243\n",
      " 126000/ 200000: 2.0506\n",
      " 127000/ 200000: 2.0436\n",
      " 128000/ 200000: 2.3061\n",
      " 129000/ 200000: 2.1111\n",
      " 130000/ 200000: 2.3913\n",
      " 131000/ 200000: 1.8016\n",
      " 132000/ 200000: 1.7708\n",
      " 133000/ 200000: 2.3007\n",
      " 134000/ 200000: 1.9070\n",
      " 135000/ 200000: 1.9321\n",
      " 136000/ 200000: 1.9605\n",
      " 137000/ 200000: 2.0202\n",
      " 138000/ 200000: 2.1324\n",
      " 139000/ 200000: 1.8769\n",
      " 140000/ 200000: 2.0949\n",
      " 141000/ 200000: 1.6697\n",
      " 142000/ 200000: 1.9916\n",
      " 143000/ 200000: 2.2366\n",
      " 144000/ 200000: 1.9673\n",
      " 145000/ 200000: 2.0078\n",
      " 146000/ 200000: 2.1900\n",
      " 147000/ 200000: 2.2442\n",
      " 148000/ 200000: 2.4687\n",
      " 149000/ 200000: 2.1052\n",
      " 150000/ 200000: 2.1458\n",
      " 151000/ 200000: 2.2130\n",
      " 152000/ 200000: 1.8518\n",
      " 153000/ 200000: 2.1210\n",
      " 154000/ 200000: 2.2111\n",
      " 155000/ 200000: 1.8794\n",
      " 156000/ 200000: 1.7999\n",
      " 157000/ 200000: 1.9778\n",
      " 158000/ 200000: 1.9572\n",
      " 159000/ 200000: 2.2892\n",
      " 160000/ 200000: 1.7824\n",
      " 161000/ 200000: 2.0610\n",
      " 162000/ 200000: 1.7476\n",
      " 163000/ 200000: 2.0405\n",
      " 164000/ 200000: 2.1679\n",
      " 165000/ 200000: 2.2678\n",
      " 166000/ 200000: 2.1515\n",
      " 167000/ 200000: 2.2697\n",
      " 168000/ 200000: 1.7882\n",
      " 169000/ 200000: 2.4349\n",
      " 170000/ 200000: 1.7249\n",
      " 171000/ 200000: 2.1209\n",
      " 172000/ 200000: 2.0874\n",
      " 173000/ 200000: 2.1535\n",
      " 174000/ 200000: 2.2162\n",
      " 175000/ 200000: 1.9088\n",
      " 176000/ 200000: 1.8511\n",
      " 177000/ 200000: 1.9857\n",
      " 178000/ 200000: 1.7723\n",
      " 179000/ 200000: 2.0336\n",
      " 180000/ 200000: 1.9752\n",
      " 181000/ 200000: 1.9770\n",
      " 182000/ 200000: 2.1655\n",
      " 183000/ 200000: 1.9008\n",
      " 184000/ 200000: 2.3177\n",
      " 185000/ 200000: 2.2753\n",
      " 186000/ 200000: 1.7005\n",
      " 187000/ 200000: 1.7725\n",
      " 188000/ 200000: 2.1084\n",
      " 189000/ 200000: 2.3244\n",
      " 190000/ 200000: 1.8614\n",
      " 191000/ 200000: 1.9796\n",
      " 192000/ 200000: 2.2739\n",
      " 193000/ 200000: 2.0926\n",
      " 194000/ 200000: 1.9934\n",
      " 195000/ 200000: 2.1267\n",
      " 196000/ 200000: 2.0440\n",
      " 197000/ 200000: 1.9631\n",
      " 198000/ 200000: 1.8144\n",
      " 199000/ 200000: 1.6415\n"
     ]
    }
   ],
   "source": [
    "max_steps = 200000\n",
    "batch_size = 32\n",
    "lossi = []\n",
    "print (\"working\")\n",
    "\n",
    "for i in range(max_steps):\n",
    "    ix = torch.randint(0, Xtr.shape[0], (batch_size,), generator=g)\n",
    "    Xb, Yb = Xtr[ix], Ytr[ix]\n",
    "\n",
    "    emb = C[Xb]\n",
    "    embcat = emb.view(emb.shape[0], -1)\n",
    "    hpreact = embcat @ W1 + b1\n",
    "    h = torch.tanh(hpreact)\n",
    "    logits = h @ W2 + b2\n",
    "    loss = F.cross_entropy(logits, Yb)\n",
    "    for p in parameters:\n",
    "        p.grad = None\n",
    "    loss.backward()\n",
    "    \n",
    "    lr = 0.1 if i < 100000 else 0.01\n",
    "    for p in parameters:\n",
    "        p.data += -lr * p.grad\n",
    "\n",
    "    if i % 1000 == 0:\n",
    "        print(f'{i:7d}/{max_steps:7d}: {loss.item():.4f}')\n",
    "    lossi.append(loss.log10().item())\n",
    "\n"
   ]
  },
  {
   "cell_type": "code",
   "execution_count": 8,
   "id": "3619f576-3e69-49da-97f4-83b9e0a22386",
   "metadata": {},
   "outputs": [
    {
     "data": {
      "text/plain": [
       "[<matplotlib.lines.Line2D at 0x13f173fa0>]"
      ]
     },
     "execution_count": 8,
     "metadata": {},
     "output_type": "execute_result"
    },
    {
     "data": {
      "image/png": "[encoded data removed]",
      "text/plain": [
       "<Figure size 640x480 with 1 Axes>"
      ]
     },
     "metadata": {},
     "output_type": "display_data"
    }
   ],
   "source": [
    "plt.plot(lossi)"
   ]
  },
  {
   "cell_type": "code",
   "execution_count": 9,
   "id": "f8ba8b76-4cce-4ea0-b8cd-22b8fca97e2d",
   "metadata": {},
   "outputs": [
    {
     "data": {
      "image/png": "[encoded data removed]",
      "text/plain": [
       "<Figure size 640x480 with 1 Axes>"
      ]
     },
     "metadata": {},
     "output_type": "display_data"
    }
   ],
   "source": [
    "plt.hist(h.view(-1).tolist(), 50);"
   ]
  },
  {
   "cell_type": "code",
   "execution_count": 10,
   "id": "5f085fa8-7ff1-4319-8f18-dd030f9428a6",
   "metadata": {},
   "outputs": [
    {
     "data": {
      "image/png": "[encoded data removed]",
      "text/plain": [
       "<Figure size 640x480 with 1 Axes>"
      ]
     },
     "metadata": {},
     "output_type": "display_data"
    }
   ],
   "source": [
    "plt.hist(hpreact.view(-1).tolist(), 50);"
   ]
  },
  {
   "cell_type": "code",
   "execution_count": 11,
   "id": "b8a86ccf-3041-49e7-bdf1-07f8c5003631",
   "metadata": {},
   "outputs": [
    {
     "name": "stdout",
     "output_type": "stream",
     "text": [
      "val 2.106989622116089\n",
      "train 2.0376641750335693\n"
     ]
    }
   ],
   "source": [
    "@torch.no_grad()\n",
    "def split_loss(split):\n",
    "    x,y = {\n",
    "        'train': (Xtr, Ytr),\n",
    "        'val':   (Xdev, Ydev),\n",
    "        'test':   (Xte, Yte),\n",
    "    }[split]\n",
    "\n",
    "    emb = C[x]\n",
    "    embcat = emb.view(emb.shape[0], -1)\n",
    "    h = torch.tanh(embcat @ W1 + b1)\n",
    "    logits = h @ W2 + b2\n",
    "    loss = F.cross_entropy(logits, y)\n",
    "    print (split, loss.item())\n",
    "\n",
    "\n",
    "split_loss('val')\n",
    "split_loss('train')"
   ]
  },
  {
   "cell_type": "code",
   "execution_count": 12,
   "id": "6060f698-3825-4637-897e-839c30b79901",
   "metadata": {},
   "outputs": [
    {
     "name": "stdout",
     "output_type": "stream",
     "text": [
      "torch.Size([1, 27])\n",
      "torch.Size([1, 27])\n",
      "torch.Size([1, 27])\n",
      "torch.Size([1, 27])\n",
      "torch.Size([1, 27])\n",
      "torch.Size([1, 27])\n",
      "torch.Size([1, 27])\n",
      "torch.Size([1, 27])\n",
      "torch.Size([1, 27])\n",
      "torch.Size([1, 27])\n",
      "torch.Size([1, 27])\n",
      "torch.Size([1, 27])\n",
      "torch.Size([1, 27])\n",
      "torch.Size([1, 27])\n",
      "torch.Size([1, 27])\n",
      "torch.Size([1, 27])\n",
      "torch.Size([1, 27])\n",
      "torch.Size([1, 27])\n",
      "torch.Size([1, 27])\n",
      "torch.Size([1, 27])\n"
     ]
    }
   ],
   "source": [
    "g = torch.Generator().manual_seed(2147483647 + 10)\n",
    "\n",
    "for _ in range(20):\n",
    "    out = []\n",
    "    context = [0] * block_size\n",
    "    while True:\n",
    "        emb = C[torch.tensor([context])]\n",
    "        h = torch.tanh(emb.view(1, -1) @ W1 + b1)\n",
    "        logits = h @ W2 + b2\n",
    "        print (logits.shape)\n",
    "        probs = F.softmax(logits, dim=1)\n",
    "\n",
    "        ix = torch.multinomial(probs, num_samples=1, generator=g).item()\n",
    "        context = context[1:] + [ix]\n",
    "        out.append(ix)\n",
    "        break\n",
    "        if ix == 0:\n",
    "            break\n",
    "\n",
    "    # print (''.join(itos[i] for i in out))\n",
    "\n"
   ]
  },
  {
   "cell_type": "code",
   "execution_count": null,
   "id": "6cb13e96-1961-4dfe-bb20-f7092f1eff25",
   "metadata": {},
   "outputs": [],
   "source": []
  }
 ],
 "metadata": {
  "kernelspec": {
   "display_name": "Python 3 (ipykernel)",
   "language": "python",
   "name": "python3"
  },
  "language_info": {
   "codemirror_mode": {
    "name": "ipython",
    "version": 3
   },
   "file_extension": ".py",
   "mimetype": "text/x-python",
   "name": "python",
   "nbconvert_exporter": "python",
   "pygments_lexer": "ipython3",
   "version": "3.8.18"
  }
 },
 "nbformat": 4,
 "nbformat_minor": 5
}
